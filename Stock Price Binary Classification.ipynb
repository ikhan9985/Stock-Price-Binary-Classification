{
 "cells": [
  {
   "cell_type": "markdown",
   "id": "a13630fc",
   "metadata": {},
   "source": [
    "# Importing Libraries"
   ]
  },
  {
   "cell_type": "code",
   "execution_count": null,
   "id": "9bfcabf2",
   "metadata": {},
   "outputs": [],
   "source": [
    "import pandas as pd\n",
    "from sklearn.metrics import precision_score\n",
    "import numpy as np\n",
    "import matplotlib.pyplot as plt\n",
    "import seaborn as sns\n",
    "from sklearn.model_selection import train_test_split\n",
    "from sklearn.model_selection import cross_val_score\n",
    "from sklearn.preprocessing import LabelEncoder\n",
    "from sklearn.metrics import classification_report\n",
    "from sklearn.metrics import confusion_matrix\n",
    "from sklearn.datasets import make_classification\n",
    "from sklearn.model_selection import RepeatedStratifiedKFold\n",
    "from sklearn.linear_model import LogisticRegression\n",
    "from sklearn.ensemble import RandomForestClassifier\n",
    "from sklearn.neighbors import KNeighborsClassifier\n",
    "from sklearn.tree import DecisionTreeClassifier\n",
    "from sklearn.svm import SVC \n",
    "import imblearn\n",
    "from collections import Counter\n",
    "from imblearn.over_sampling import SMOTE, ADASYN, RandomOverSampler\n",
    "from imblearn.under_sampling import RandomUnderSampler"
   ]
  },
  {
   "cell_type": "markdown",
   "id": "094dee1a",
   "metadata": {},
   "source": [
    "# Preprocessing and Classification "
   ]
  },
  {
   "cell_type": "code",
   "execution_count": 2,
   "id": "6d2b2f58",
   "metadata": {},
   "outputs": [],
   "source": [
    "def function(df):\n",
    "        '''\n",
    "            Describe your function's logic here.\n",
    "        '''\n",
    "        params = dict()\n",
    "        params[\"N\"] = 20\n",
    "        params[\"margin\"] = 0.9\n",
    "        # Initializing predictions as a boolean series:\n",
    "        predictions = pd.Series(data=True, index=df.index)\n",
    "        \n",
    "        # Implement your logic after this line:\n",
    "\n",
    "        dataset = df.values\n",
    "\n",
    "        # split into input (X) and output (Y) variables\n",
    "        X = dataset[:,1:3].astype(float)\n",
    "        Y = dataset[:,6]\n",
    "\n",
    "        \n",
    "        #encode class values as integers\n",
    "        encoder = LabelEncoder()\n",
    "        encoder.fit(Y)\n",
    "        encoded_Y = encoder.transform(Y)\n",
    "\n",
    "\n",
    "        #oversample = ADASYN(sampling_strategy=0.5)\n",
    "        #oversample = SMOTE()\n",
    "        oversample= RandomOverSampler(sampling_strategy='minority')\n",
    "        #oversample= RandomUnderSampler(sampling_strategy='majority')\n",
    "\n",
    "        X, encoded_Y = oversample.fit_resample(X, encoded_Y)\n",
    "        #counter = Counter(encoded_Y)\n",
    "        #print(counter)\n",
    "\n",
    "        x_train, x_test, y_train, y_test = train_test_split(X, encoded_Y, test_size = 0.2)\n",
    "\n",
    "        model = DecisionTreeClassifier()\n",
    "        #model = RandomForestClassifier()\n",
    "        #model =  KNeighborsClassifier(n_neighbors=2)\n",
    "        #model = LogisticRegression()\n",
    "        #model = SVC()\n",
    "        \n",
    "        model.fit(x_train, y_train)\n",
    "        predictions = model.predict(x_test)\n",
    "\n",
    "        #print(precision_score(encoded_Y, predictions))\n",
    "        #print(confusion_matrix(y_test, predictions))\n",
    "\n",
    "        #print(predictions.shape)\n",
    "        #report = classification_report(encoded_Y, predictions)\n",
    "        \n",
    "\n",
    "        return predictions, y_test"
   ]
  },
  {
   "cell_type": "markdown",
   "id": "f7c25567",
   "metadata": {},
   "source": [
    "# Main Function"
   ]
  },
  {
   "cell_type": "code",
   "execution_count": 3,
   "id": "bc89c757",
   "metadata": {},
   "outputs": [
    {
     "name": "stdout",
     "output_type": "stream",
     "text": [
      "Score 0 : 97 %\n",
      "Score 1 : 87 %\n",
      "Score 2 : 92 %\n",
      "Score 3 : 91 %\n",
      "Score 4 : 94 %\n",
      "---------\n",
      "Mean Value: 92.2 %\n"
     ]
    }
   ],
   "source": [
    "if __name__ == \"__main__\":\n",
    "    scores = []\n",
    "    for i, fName in enumerate([\"BBIG\", \"PIXY\", \"RELI\", \"SXTC\", \"WEI\"]):\n",
    "        df = pd.read_csv(filepath_or_buffer=\"https://raw.githubusercontent.com/Pisciotta/test_csv/main/\"+fName+\".csv\")\n",
    "        predictions, y_test = function(df)\n",
    "        pd.Series(data=True, index=df.index)\n",
    "        score = int(precision_score(y_test, predictions)*100) if sum(predictions) > 0 else 0\n",
    "        print(\"Score\",i,\":\", score,\"%\")\n",
    "        scores.append(score)\n",
    "    print(\"---------\\nMean Value:\", sum(scores)/len(scores), \"%\")"
   ]
  },
  {
   "cell_type": "code",
   "execution_count": null,
   "id": "1abb5da6",
   "metadata": {},
   "outputs": [],
   "source": []
  }
 ],
 "metadata": {
  "kernelspec": {
   "display_name": "Python 3 (ipykernel)",
   "language": "python",
   "name": "python3"
  },
  "language_info": {
   "codemirror_mode": {
    "name": "ipython",
    "version": 3
   },
   "file_extension": ".py",
   "mimetype": "text/x-python",
   "name": "python",
   "nbconvert_exporter": "python",
   "pygments_lexer": "ipython3",
   "version": "3.8.2"
  }
 },
 "nbformat": 4,
 "nbformat_minor": 5
}
